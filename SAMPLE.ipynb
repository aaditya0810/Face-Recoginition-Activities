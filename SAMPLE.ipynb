{
 "cells": [
  {
   "cell_type": "code",
   "execution_count": null,
   "id": "86e291ce",
   "metadata": {},
   "outputs": [],
   "source": [
    "import cv2\n",
    "import numpy as np\n",
    "\n",
    "face_classifier = cv2.CascadeClassifier('haarcascade_frontalface_default.xml') #load haar classifier\n",
    "# Load functions\n",
    "def face_extractor(img): \n",
    "    # Function detects faces and returns the cropped face\n",
    "    # If no face detected, it returns the input image\n",
    "    \n",
    "    gray = cv2.cvtColor(img,cv2.COLOR_BGR2GRAY) # We convert our color image to grayscale format for faster calculation\n",
    "    faces = face_classifier.detectMultiScale(gray) # Detecting face\n",
    "    \n",
    "    if faces is (): #Empty round brackets represent empty tuple\n",
    "       return None  #If there are no faces detected return None i.e. resetting it back to original posititon here\n",
    "    \n",
    "    for (x,y,w,h) in faces:                 # Cropping all possible captured faces\n",
    "        cropped_face = img[ x:x+w , y:y+h]  # We store the complete image inside cropped_face array\n",
    "        # .detectMultiScale() returns x,y,w,h where (x,y) are top-left edge of a rectangle , w is width , h is height\n",
    "        # faces[0][0] = x ; faces[0][1] = y ; faces[0][2] = w ; faces[0][3] = h\n",
    "        # x1 = x ; y1 = y ; x2 = x1 + w (as x1 + width = x2) ; y2 = y1 + h (as y1 + height = y2)\n",
    "        print(type(cropped_face))\n",
    "\n",
    "    return cropped_face                     #returning cropped_face to img in face_extractor function\n",
    "\n",
    "cap = cv2.VideoCapture(0)                   #start webcam\n",
    "count = 0\n",
    "\n",
    "# Collect 100 samples of your face from webcam input\n",
    "while True:\n",
    "    ret, frame = cap.read()\n",
    "    if face_extractor(frame) is not None:   #If there is cropped image ready and not empty, then true and get inside loop\n",
    "        count += 1                          #Count increases by 1 if image captured\n",
    "        face = cv2.resize(face_extractor(frame), (200, 200))     #Image is resized into size (200,200)\n",
    "        face = cv2.cvtColor(face, cv2.COLOR_BGR2GRAY)            #Converting image into grayscale\n",
    "        file_name_path = './faces/user/' + str(count) + '.jpg'   #Save file in specified directory with unique name\n",
    "        cv2.imwrite(file_name_path, face)                        #Image is written on that path with name mentioned\n",
    "        #Put count on images and display live count\n",
    "        cv2.putText(face, str(count), (50, 50), cv2.FONT_HERSHEY_COMPLEX, 1, (0,255,0), 2)\n",
    "        cv2.imshow('Face Cropper', face) #Show the window\n",
    "        \n",
    "    else:\n",
    "        print(\"Face not found\")\n",
    "        pass\n",
    "\n",
    "    if cv2.waitKey(1) == 13 or count == 100: #13 is the Enter Key\n",
    "        break\n",
    "        \n",
    "cap.release() #Close the camera\n",
    "cv2.destroyAllWindows()    \n",
    "\n",
    "print(\"Collecting Samples Complete\")\n",
    "print(frame.shape)"
   ]
  }
 ],
 "metadata": {
  "kernelspec": {
   "display_name": "Python 3",
   "language": "python",
   "name": "python3"
  },
  "language_info": {
   "codemirror_mode": {
    "name": "ipython",
    "version": 3
   },
   "file_extension": ".py",
   "mimetype": "text/x-python",
   "name": "python",
   "nbconvert_exporter": "python",
   "pygments_lexer": "ipython3",
   "version": "3.8.8"
  }
 },
 "nbformat": 4,
 "nbformat_minor": 5
}
