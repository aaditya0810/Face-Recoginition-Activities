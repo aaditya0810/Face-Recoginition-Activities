{
 "cells": [
  {
   "cell_type": "code",
   "execution_count": null,
   "id": "12c439f1",
   "metadata": {},
   "outputs": [],
   "source": [
    "import cv2\n",
    "import numpy as np\n",
    "from os import listdir\n",
    "from os.path import isfile, join\n",
    "\n",
    "# Get the training data we previously made\n",
    "data_path = './faces/user/' #our main folder\n",
    "onlyfiles = [f for f in listdir(data_path) if isfile(join(data_path, f))]\n",
    "\n",
    "#listdir(datapath) is used to list directories/files in the datapath folder/directory.\n",
    "#f for f in listdir(datapath) means listing all labels in that directory.\n",
    "#isfile returns either true or false\n",
    "#join(datapath,f) joins the file in the datapath.\n",
    "#overall this line means that onlyfiles will store files that are present in the directory mentioned\n",
    "\n",
    "# Create arrays for training data and labels\n",
    "Training_Data, Labels = [], []\n",
    "\n",
    "# Open training images in our datapath\n",
    "# Create a numpy array for training data\n",
    "for i, files in enumerate(onlyfiles):                        #Doing transactions one by one on <onlyfiles>\n",
    "    image_path = data_path + onlyfiles[i]                    #Storing Data Path combined with the image\n",
    "    images = cv2.imread(image_path, cv2.IMREAD_GRAYSCALE)    #Reading the image at the path\n",
    "    Training_Data.append(np.asarray(images, dtype=np.uint8)) #Appending the training data and converting input to array(asarray)\n",
    "    Labels.append(i)                                         #Appending Labels array similarly\n",
    "\n",
    "# Create a numpy array for both training data and labels\n",
    "Labels = np.asarray(Labels, dtype=np.int32)                  #Converting labels array into numpy format\n",
    "\n",
    "# Initialize facial recognizer\n",
    "# model = cv2.face.createLBPHFaceRecognizer()\n",
    "# NOTE: For OpenCV 3.0 use cv2.face.createLBPHFaceRecognizer()\n",
    "# pip install opencv-contrib-python\n",
    "# model = cv2.createLBPHFaceRecognizer()\n",
    "\n",
    "facemodel  = cv2.face_LBPHFaceRecognizer.create()           #Creating the model \n",
    "facemodel.train(np.asarray(Training_Data), np.asarray(Labels)) #Training the model with the Training Data and corresponding label\n",
    "print(\"Model trained sucessefully\")\n",
    "#facemodel.save('face_recognition_model.h5')                   #If you want to save the model in your directory"
   ]
  }
 ],
 "metadata": {
  "kernelspec": {
   "display_name": "Python 3",
   "language": "python",
   "name": "python3"
  },
  "language_info": {
   "codemirror_mode": {
    "name": "ipython",
    "version": 3
   },
   "file_extension": ".py",
   "mimetype": "text/x-python",
   "name": "python",
   "nbconvert_exporter": "python",
   "pygments_lexer": "ipython3",
   "version": "3.8.8"
  }
 },
 "nbformat": 4,
 "nbformat_minor": 5
}
